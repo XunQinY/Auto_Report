{
 "cells": [
  {
   "cell_type": "code",
   "execution_count": 33,
   "metadata": {
    "collapsed": true
   },
   "outputs": [],
   "source": [
    "import openai\n",
    "import pandas as pd\n",
    "import os\n",
    "import akshare as ak\n",
    "import datetime\n",
    "from IPython.display import Markdown, JSON, HTML\n",
    "from pandasai import PandasAI\n",
    "from pandasai.llm.azure_openai import AzureOpenAI"
   ]
  },
  {
   "cell_type": "code",
   "execution_count": 3,
   "outputs": [],
   "source": [
    "openai.api_type = \"azure\"\n",
    "openai.api_base = \"https://purefdaopenai2.openai.azure.com/\"\n",
    "openai.api_version = \"2023-03-15-preview\"\n",
    "openai.api_key = os.environ.get(\"OPENAI_API_KEY\", \"0d97f25b71a546818b2f0c0d2e3d5b87\")"
   ],
   "metadata": {
    "collapsed": false,
    "pycharm": {
     "name": "#%%\n"
    }
   }
  },
  {
   "cell_type": "code",
   "execution_count": 4,
   "outputs": [],
   "source": [
    "def gpt(prompt, system=None, example=None):\n",
    "    message = []\n",
    "    if system:\n",
    "        message.append({\"role\":\"system\", \"content\": system})\n",
    "    if example:\n",
    "        message.extend(example)\n",
    "    message.append({\"role\":\"user\", \"content\":prompt})\n",
    "    response = openai.ChatCompletion.create(\n",
    "            engine=\"gpt35\",\n",
    "            messages=message,\n",
    "            temperature=0.5,  # 值在[0,1]之间，越大表示回复越具有不确定性\n",
    "            max_tokens=4096,  # 回复最大的字符数\n",
    "            frequency_penalty=0.0,  # [-2,2]之间，该值越大则更倾向于产生不同的内容\n",
    "            presence_penalty=0.0,  # [-2,2]之间，该值越大则更倾向于产生不同的内容\n",
    "        )\n",
    "    return response['choices'][0].get(\"message\").get(\"content\")"
   ],
   "metadata": {
    "collapsed": false,
    "pycharm": {
     "name": "#%%\n"
    }
   }
  },
  {
   "cell_type": "code",
   "execution_count": 55,
   "outputs": [],
   "source": [
    "macro_cnbs_df = ak.macro_cnbs()"
   ],
   "metadata": {
    "collapsed": false,
    "pycharm": {
     "name": "#%%\n"
    }
   }
  },
  {
   "cell_type": "code",
   "execution_count": 56,
   "outputs": [
    {
     "data": {
      "text/plain": "        年份  居民部门  非金融企业部门  政府部门  中央政府  地方政府  实体经济部门  金融部门资产方  金融部门负债方\n0  1992-12   7.5     90.0   4.4   3.9   8.3   105.8      7.8      7.2\n1  1993-03   7.5     91.1   4.2   3.9   8.1   106.7      7.8      7.3\n2  1993-06   7.4     91.1   4.4   3.8   8.2   106.7      7.7      7.3\n3  1993-09   7.3     90.2   4.6   3.7   8.3   105.8      7.7      7.3\n4  1993-12   7.0     87.8   4.2   3.6   7.8   102.6      8.9      7.1",
      "text/html": "<div>\n<style scoped>\n    .dataframe tbody tr th:only-of-type {\n        vertical-align: middle;\n    }\n\n    .dataframe tbody tr th {\n        vertical-align: top;\n    }\n\n    .dataframe thead th {\n        text-align: right;\n    }\n</style>\n<table border=\"1\" class=\"dataframe\">\n  <thead>\n    <tr style=\"text-align: right;\">\n      <th></th>\n      <th>年份</th>\n      <th>居民部门</th>\n      <th>非金融企业部门</th>\n      <th>政府部门</th>\n      <th>中央政府</th>\n      <th>地方政府</th>\n      <th>实体经济部门</th>\n      <th>金融部门资产方</th>\n      <th>金融部门负债方</th>\n    </tr>\n  </thead>\n  <tbody>\n    <tr>\n      <th>0</th>\n      <td>1992-12</td>\n      <td>7.5</td>\n      <td>90.0</td>\n      <td>4.4</td>\n      <td>3.9</td>\n      <td>8.3</td>\n      <td>105.8</td>\n      <td>7.8</td>\n      <td>7.2</td>\n    </tr>\n    <tr>\n      <th>1</th>\n      <td>1993-03</td>\n      <td>7.5</td>\n      <td>91.1</td>\n      <td>4.2</td>\n      <td>3.9</td>\n      <td>8.1</td>\n      <td>106.7</td>\n      <td>7.8</td>\n      <td>7.3</td>\n    </tr>\n    <tr>\n      <th>2</th>\n      <td>1993-06</td>\n      <td>7.4</td>\n      <td>91.1</td>\n      <td>4.4</td>\n      <td>3.8</td>\n      <td>8.2</td>\n      <td>106.7</td>\n      <td>7.7</td>\n      <td>7.3</td>\n    </tr>\n    <tr>\n      <th>3</th>\n      <td>1993-09</td>\n      <td>7.3</td>\n      <td>90.2</td>\n      <td>4.6</td>\n      <td>3.7</td>\n      <td>8.3</td>\n      <td>105.8</td>\n      <td>7.7</td>\n      <td>7.3</td>\n    </tr>\n    <tr>\n      <th>4</th>\n      <td>1993-12</td>\n      <td>7.0</td>\n      <td>87.8</td>\n      <td>4.2</td>\n      <td>3.6</td>\n      <td>7.8</td>\n      <td>102.6</td>\n      <td>8.9</td>\n      <td>7.1</td>\n    </tr>\n  </tbody>\n</table>\n</div>"
     },
     "execution_count": 56,
     "metadata": {},
     "output_type": "execute_result"
    }
   ],
   "source": [
    "df_head = macro_cnbs_df.head()\n",
    "df_head"
   ],
   "metadata": {
    "collapsed": false,
    "pycharm": {
     "name": "#%%\n"
    }
   }
  },
  {
   "cell_type": "code",
   "execution_count": 75,
   "outputs": [],
   "source": [
    "llm = AzureOpenAI(api_base=\"https://purefdaopenai2.openai.azure.com/\",api_version=\"2023-03-15-preview\", api_token=\"0d97f25b71a546818b2f0c0d2e3d5b87\", deployment_name=\"gpt35\")\n",
    "ai = PandasAI(llm=llm, save_charts=False)"
   ],
   "metadata": {
    "collapsed": false,
    "pycharm": {
     "name": "#%%\n"
    }
   }
  },
  {
   "cell_type": "code",
   "execution_count": 27,
   "outputs": [
    {
     "data": {
      "text/plain": "'2023年06月17日'"
     },
     "execution_count": 27,
     "metadata": {},
     "output_type": "execute_result"
    }
   ],
   "source": [
    "today_date = datetime.datetime.now().strftime(\"%Y年%m月%d日\")\n",
    "num_rows = macro_cnbs_df.shape[0]\n",
    "num_cols = macro_cnbs_df.shape[1]"
   ],
   "metadata": {
    "collapsed": false,
    "pycharm": {
     "name": "#%%\n"
    }
   }
  },
  {
   "cell_type": "code",
   "execution_count": 81,
   "outputs": [],
   "source": [
    "prompt = \"今天是{today_date},现在我提供给你一个{num_rows}行{num_cols}列的pandas dataframe（df）,下面是这个数据的`print(df.head(5)`):\\n```\\n{df_head}\\n```\\n\""
   ],
   "metadata": {
    "collapsed": false,
    "pycharm": {
     "name": "#%%\n"
    }
   }
  },
  {
   "cell_type": "code",
   "execution_count": 82,
   "outputs": [],
   "source": [
    "format_prompt = prompt.format(today_date=today_date,num_rows=num_rows,num_cols=num_cols,df_head=df_head)"
   ],
   "metadata": {
    "collapsed": false,
    "pycharm": {
     "name": "#%%\n"
    }
   }
  },
  {
   "cell_type": "code",
   "execution_count": 83,
   "outputs": [
    {
     "data": {
      "text/plain": "<IPython.core.display.Markdown object>",
      "text/markdown": "今天是2023年06月17日,现在我提供给你一个122行9列的pandas dataframe（df）,下面是这个数据的`print(df.head(5)`):\n```\n        年份  居民部门  非金融企业部门  政府部门  中央政府  地方政府  实体经济部门  金融部门资产方  金融部门负债方\n0  1992-12   7.5     90.0   4.4   3.9   8.3   105.8      7.8      7.2\n1  1993-03   7.5     91.1   4.2   3.9   8.1   106.7      7.8      7.3\n2  1993-06   7.4     91.1   4.4   3.8   8.2   106.7      7.7      7.3\n3  1993-09   7.3     90.2   4.6   3.7   8.3   105.8      7.7      7.3\n4  1993-12   7.0     87.8   4.2   3.6   7.8   102.6      8.9      7.1\n```\n"
     },
     "execution_count": 83,
     "metadata": {},
     "output_type": "execute_result"
    }
   ],
   "source": [
    "Markdown(format_prompt)"
   ],
   "metadata": {
    "collapsed": false,
    "pycharm": {
     "name": "#%%\n"
    }
   }
  },
  {
   "cell_type": "code",
   "execution_count": 85,
   "outputs": [],
   "source": [
    "fin_prompt = f\"{format_prompt}现在我需要对这份数据进行多维度的分析，请列出不同维度间的可视化建议，以便我能够对你列出的每个点进行可视化作图：\""
   ],
   "metadata": {
    "collapsed": false,
    "pycharm": {
     "name": "#%%\n"
    }
   }
  },
  {
   "cell_type": "code",
   "execution_count": 86,
   "outputs": [
    {
     "data": {
      "text/plain": "<IPython.core.display.Markdown object>",
      "text/markdown": "1. 时间维度：可以使用折线图或者柱状图来展示不同时间点的各个部门的资产和负债情况，以及各个部门资产和负债之间的变化趋势。\n\n2. 部门维度：可以使用堆积柱状图或者饼图来展示不同部门的资产和负债情况，并比较不同部门之间的差异。\n\n3. 资产和负债维度：可以使用散点图或者气泡图来展示不同部门的资产和负债之间的关系，以及资产和负债的变化趋势。\n\n4. 中央政府和地方政府维度：可以使用地图或者热力图来展示不同地区中央政府和地方政府的资产和负债情况，并比较不同地区之间的差异。\n\n5. 实体经济部门和金融部门维度：可以使用堆积柱状图或者饼图来展示实体经济部门和金融部门的资产和负债情况，并比较不同部门之间的差异。"
     },
     "execution_count": 86,
     "metadata": {},
     "output_type": "execute_result"
    }
   ],
   "source": [
    "result = gpt(fin_prompt)\n",
    "Markdown(result)"
   ],
   "metadata": {
    "collapsed": false,
    "pycharm": {
     "name": "#%%\n"
    }
   }
  },
  {
   "cell_type": "code",
   "execution_count": 72,
   "outputs": [],
   "source": [
    "prompt_list = [i for i in result.split(\"\\n\") if i]"
   ],
   "metadata": {
    "collapsed": false,
    "pycharm": {
     "name": "#%%\n"
    }
   }
  },
  {
   "cell_type": "code",
   "execution_count": 73,
   "outputs": [
    {
     "data": {
      "text/plain": "['1. 年份与各部门的资产和负债情况的关系。可以使用折线图或堆积面积图来展示不同年份各部门资产和负债的变化趋势，以及不同部门间的相对比例。',\n '2. 不同部门间的资产和负债情况的对比。可以使用堆积柱状图或饼图来展示不同部门间资产和负债的比例，以及不同部门间的相对大小。',\n '3. 政府部门中中央政府和地方政府的资产和负债情况的对比。可以使用堆积柱状图或饼图来展示中央政府和地方政府资产和负债的比例，以及两者间的相对大小。',\n '4. 实体经济部门与金融部门的资产和负债情况的对比。可以使用堆积柱状图或饼图来展示实体经济部门和金融部门资产和负债的比例，以及两者间的相对大小。',\n '5. 不同部门间资产和负债的增长率和变化趋势。可以使用折线图来展示不同部门间资产和负债的增长率和变化趋势，以及不同部门间的相对比例。',\n '6. 不同部门间资产和负债的相关性。可以使用散点图来展示不同部门间资产和负债的相关性，以及不同部门间的相对比例。',\n '7. 不同部门资产和负债的分布情况。可以使用箱线图或直方图来展示不同部门资产和负债的分布情况，以及不同部门间的相对比例。',\n '8. 各部门间资产和负债的占比变化情况。可以使用堆积面积图来展示各部门间资产和负债的占比变化情况，以及不同部门间的相对比例。']"
     },
     "execution_count": 73,
     "metadata": {},
     "output_type": "execute_result"
    }
   ],
   "source": [
    "prompt_list"
   ],
   "metadata": {
    "collapsed": false,
    "pycharm": {
     "name": "#%%\n"
    }
   }
  },
  {
   "cell_type": "code",
   "execution_count": 76,
   "outputs": [],
   "source": [
    "ai(macro_cnbs_df,prompt=prompt_list[0])"
   ],
   "metadata": {
    "collapsed": false,
    "pycharm": {
     "name": "#%%\n"
    }
   }
  },
  {
   "cell_type": "code",
   "execution_count": 77,
   "outputs": [
    {
     "data": {
      "text/plain": "\"<class 'pandas.core.frame.DataFrame'>\\nDatetimeIndex: 122 entries, 1992-12-01 to 2023-03-01\\nData columns (total 8 columns):\\n #   Column   Non-Null Count  Dtype  \\n---  ------   --------------  -----  \\n 0   居民部门     122 non-null    float64\\n 1   非金融企业部门  122 non-null    float64\\n 2   政府部门     122 non-null    float64\\n 3   中央政府     122 non-null    float64\\n 4   地方政府     122 non-null    float64\\n 5   实体经济部门   122 non-null    float64\\n 6   金融部门资产方  122 non-null    float64\\n 7   金融部门负债方  122 non-null    float64\\ndtypes: float64(8)\\nmemory usage: 8.6 KB\\nNone\\n\""
     },
     "execution_count": 77,
     "metadata": {},
     "output_type": "execute_result"
    }
   ],
   "source": [
    "ai(macro_cnbs_df, prompt=prompt_list[1])"
   ],
   "metadata": {
    "collapsed": false,
    "pycharm": {
     "name": "#%%\n"
    }
   }
  },
  {
   "cell_type": "code",
   "execution_count": 79,
   "outputs": [],
   "source": [
    "ai(macro_cnbs_df, prompt=prompt_list[2])"
   ],
   "metadata": {
    "collapsed": false,
    "pycharm": {
     "name": "#%%\n"
    }
   }
  },
  {
   "cell_type": "code",
   "execution_count": 80,
   "outputs": [
    {
     "name": "stdout",
     "output_type": "stream",
     "text": [
      "No code found in the response\n"
     ]
    },
    {
     "data": {
      "text/plain": "'Unfortunately, I was not able to answer your question, because of the following error:\\n\\nNo code found in the response\\n'"
     },
     "execution_count": 80,
     "metadata": {},
     "output_type": "execute_result"
    }
   ],
   "source": [
    "ai(macro_cnbs_df, prompt=prompt_list[3])"
   ],
   "metadata": {
    "collapsed": false,
    "pycharm": {
     "name": "#%%\n"
    }
   }
  },
  {
   "cell_type": "code",
   "execution_count": 87,
   "outputs": [],
   "source": [
    "prompt_list = [i for i in result.split(\"\\n\") if i]"
   ],
   "metadata": {
    "collapsed": false,
    "pycharm": {
     "name": "#%%\n"
    }
   }
  },
  {
   "cell_type": "code",
   "execution_count": 89,
   "outputs": [
    {
     "data": {
      "text/plain": "['1. 时间维度：可以使用折线图或者柱状图来展示不同时间点的各个部门的资产和负债情况，以及各个部门资产和负债之间的变化趋势。',\n '2. 部门维度：可以使用堆积柱状图或者饼图来展示不同部门的资产和负债情况，并比较不同部门之间的差异。',\n '3. 资产和负债维度：可以使用散点图或者气泡图来展示不同部门的资产和负债之间的关系，以及资产和负债的变化趋势。',\n '4. 中央政府和地方政府维度：可以使用地图或者热力图来展示不同地区中央政府和地方政府的资产和负债情况，并比较不同地区之间的差异。',\n '5. 实体经济部门和金融部门维度：可以使用堆积柱状图或者饼图来展示实体经济部门和金融部门的资产和负债情况，并比较不同部门之间的差异。']"
     },
     "execution_count": 89,
     "metadata": {},
     "output_type": "execute_result"
    }
   ],
   "source": [
    "prompt_list"
   ],
   "metadata": {
    "collapsed": false,
    "pycharm": {
     "name": "#%%\n"
    }
   }
  },
  {
   "cell_type": "code",
   "execution_count": 90,
   "outputs": [],
   "source": [
    "ai(macro_cnbs_df, prompt_list[0])"
   ],
   "metadata": {
    "collapsed": false,
    "pycharm": {
     "name": "#%%\n"
    }
   }
  },
  {
   "cell_type": "code",
   "execution_count": 91,
   "outputs": [
    {
     "name": "stdout",
     "output_type": "stream",
     "text": [
      "No code found in the response\n"
     ]
    },
    {
     "data": {
      "text/plain": "'Unfortunately, I was not able to answer your question, because of the following error:\\n\\nNo code found in the response\\n'"
     },
     "execution_count": 91,
     "metadata": {},
     "output_type": "execute_result"
    }
   ],
   "source": [
    "ai(macro_cnbs_df, prompt_list[1])"
   ],
   "metadata": {
    "collapsed": false,
    "pycharm": {
     "name": "#%%\n"
    }
   }
  },
  {
   "cell_type": "code",
   "execution_count": 99,
   "outputs": [
    {
     "name": "stderr",
     "output_type": "stream",
     "text": [
      "/Users/jeffrey/miniforge3/lib/python3.9/site-packages/IPython/core/pylabtools.py:151: UserWarning: Glyph 37329 (\\N{CJK UNIFIED IDEOGRAPH-91D1}) missing from current font.\n",
      "  \n",
      "/Users/jeffrey/miniforge3/lib/python3.9/site-packages/IPython/core/pylabtools.py:151: UserWarning: Glyph 34701 (\\N{CJK UNIFIED IDEOGRAPH-878D}) missing from current font.\n",
      "  \n",
      "/Users/jeffrey/miniforge3/lib/python3.9/site-packages/IPython/core/pylabtools.py:151: UserWarning: Glyph 37096 (\\N{CJK UNIFIED IDEOGRAPH-90E8}) missing from current font.\n",
      "  \n",
      "/Users/jeffrey/miniforge3/lib/python3.9/site-packages/IPython/core/pylabtools.py:151: UserWarning: Glyph 38376 (\\N{CJK UNIFIED IDEOGRAPH-95E8}) missing from current font.\n",
      "  \n",
      "/Users/jeffrey/miniforge3/lib/python3.9/site-packages/IPython/core/pylabtools.py:151: UserWarning: Glyph 36164 (\\N{CJK UNIFIED IDEOGRAPH-8D44}) missing from current font.\n",
      "  \n",
      "/Users/jeffrey/miniforge3/lib/python3.9/site-packages/IPython/core/pylabtools.py:151: UserWarning: Glyph 20135 (\\N{CJK UNIFIED IDEOGRAPH-4EA7}) missing from current font.\n",
      "  \n",
      "/Users/jeffrey/miniforge3/lib/python3.9/site-packages/IPython/core/pylabtools.py:151: UserWarning: Glyph 26041 (\\N{CJK UNIFIED IDEOGRAPH-65B9}) missing from current font.\n",
      "  \n",
      "/Users/jeffrey/miniforge3/lib/python3.9/site-packages/IPython/core/pylabtools.py:151: UserWarning: Glyph 19981 (\\N{CJK UNIFIED IDEOGRAPH-4E0D}) missing from current font.\n",
      "  \n",
      "/Users/jeffrey/miniforge3/lib/python3.9/site-packages/IPython/core/pylabtools.py:151: UserWarning: Glyph 21516 (\\N{CJK UNIFIED IDEOGRAPH-540C}) missing from current font.\n",
      "  \n",
      "/Users/jeffrey/miniforge3/lib/python3.9/site-packages/IPython/core/pylabtools.py:151: UserWarning: Glyph 30340 (\\N{CJK UNIFIED IDEOGRAPH-7684}) missing from current font.\n",
      "  \n",
      "/Users/jeffrey/miniforge3/lib/python3.9/site-packages/IPython/core/pylabtools.py:151: UserWarning: Glyph 21644 (\\N{CJK UNIFIED IDEOGRAPH-548C}) missing from current font.\n",
      "  \n",
      "/Users/jeffrey/miniforge3/lib/python3.9/site-packages/IPython/core/pylabtools.py:151: UserWarning: Glyph 36127 (\\N{CJK UNIFIED IDEOGRAPH-8D1F}) missing from current font.\n",
      "  \n",
      "/Users/jeffrey/miniforge3/lib/python3.9/site-packages/IPython/core/pylabtools.py:151: UserWarning: Glyph 20538 (\\N{CJK UNIFIED IDEOGRAPH-503A}) missing from current font.\n",
      "  \n",
      "/Users/jeffrey/miniforge3/lib/python3.9/site-packages/IPython/core/pylabtools.py:151: UserWarning: Glyph 20043 (\\N{CJK UNIFIED IDEOGRAPH-4E4B}) missing from current font.\n",
      "  \n",
      "/Users/jeffrey/miniforge3/lib/python3.9/site-packages/IPython/core/pylabtools.py:151: UserWarning: Glyph 38388 (\\N{CJK UNIFIED IDEOGRAPH-95F4}) missing from current font.\n",
      "  \n",
      "/Users/jeffrey/miniforge3/lib/python3.9/site-packages/IPython/core/pylabtools.py:151: UserWarning: Glyph 20851 (\\N{CJK UNIFIED IDEOGRAPH-5173}) missing from current font.\n",
      "  \n",
      "/Users/jeffrey/miniforge3/lib/python3.9/site-packages/IPython/core/pylabtools.py:151: UserWarning: Glyph 31995 (\\N{CJK UNIFIED IDEOGRAPH-7CFB}) missing from current font.\n",
      "  \n",
      "/Users/jeffrey/miniforge3/lib/python3.9/site-packages/IPython/core/pylabtools.py:151: UserWarning: Glyph 23454 (\\N{CJK UNIFIED IDEOGRAPH-5B9E}) missing from current font.\n",
      "  \n",
      "/Users/jeffrey/miniforge3/lib/python3.9/site-packages/IPython/core/pylabtools.py:151: UserWarning: Glyph 20307 (\\N{CJK UNIFIED IDEOGRAPH-4F53}) missing from current font.\n",
      "  \n",
      "/Users/jeffrey/miniforge3/lib/python3.9/site-packages/IPython/core/pylabtools.py:151: UserWarning: Glyph 32463 (\\N{CJK UNIFIED IDEOGRAPH-7ECF}) missing from current font.\n",
      "  \n",
      "/Users/jeffrey/miniforge3/lib/python3.9/site-packages/IPython/core/pylabtools.py:151: UserWarning: Glyph 27982 (\\N{CJK UNIFIED IDEOGRAPH-6D4E}) missing from current font.\n",
      "  \n"
     ]
    },
    {
     "data": {
      "text/plain": "<Figure size 720x432 with 1 Axes>",
      "image/png": "[encoded data removed]"
     },
     "metadata": {
      "needs_background": "light"
     },
     "output_type": "display_data"
    }
   ],
   "source": [
    "ai(macro_cnbs_df, prompt_list[2])"
   ],
   "metadata": {
    "collapsed": false,
    "pycharm": {
     "name": "#%%\n"
    }
   }
  },
  {
   "cell_type": "code",
   "execution_count": 94,
   "outputs": [
    {
     "data": {
      "text/plain": "            居民部门  非金融企业部门  政府部门  中央政府  地方政府  实体经济部门  金融部门资产方  金融部门负债方\n年份                                                                   \n2022-03-01  61.8    158.2  19.9  27.4  47.3   267.3     49.2     62.6\n2022-06-01  62.0    160.3  20.2  29.4  49.6   271.9     50.0     63.9\n2022-09-01  62.1    160.9  20.9  28.9  49.8   272.7     49.3     63.9\n2022-12-01  61.9    160.9  21.4  29.0  50.4   273.1     50.0     64.4\n2023-03-01  63.3    167.0  21.4  30.1  51.5   281.8     52.7     65.6",
      "text/html": "<div>\n<style scoped>\n    .dataframe tbody tr th:only-of-type {\n        vertical-align: middle;\n    }\n\n    .dataframe tbody tr th {\n        vertical-align: top;\n    }\n\n    .dataframe thead th {\n        text-align: right;\n    }\n</style>\n<table border=\"1\" class=\"dataframe\">\n  <thead>\n    <tr style=\"text-align: right;\">\n      <th></th>\n      <th>居民部门</th>\n      <th>非金融企业部门</th>\n      <th>政府部门</th>\n      <th>中央政府</th>\n      <th>地方政府</th>\n      <th>实体经济部门</th>\n      <th>金融部门资产方</th>\n      <th>金融部门负债方</th>\n    </tr>\n    <tr>\n      <th>年份</th>\n      <th></th>\n      <th></th>\n      <th></th>\n      <th></th>\n      <th></th>\n      <th></th>\n      <th></th>\n      <th></th>\n    </tr>\n  </thead>\n  <tbody>\n    <tr>\n      <th>2022-03-01</th>\n      <td>61.8</td>\n      <td>158.2</td>\n      <td>19.9</td>\n      <td>27.4</td>\n      <td>47.3</td>\n      <td>267.3</td>\n      <td>49.2</td>\n      <td>62.6</td>\n    </tr>\n    <tr>\n      <th>2022-06-01</th>\n      <td>62.0</td>\n      <td>160.3</td>\n      <td>20.2</td>\n      <td>29.4</td>\n      <td>49.6</td>\n      <td>271.9</td>\n      <td>50.0</td>\n      <td>63.9</td>\n    </tr>\n    <tr>\n      <th>2022-09-01</th>\n      <td>62.1</td>\n      <td>160.9</td>\n      <td>20.9</td>\n      <td>28.9</td>\n      <td>49.8</td>\n      <td>272.7</td>\n      <td>49.3</td>\n      <td>63.9</td>\n    </tr>\n    <tr>\n      <th>2022-12-01</th>\n      <td>61.9</td>\n      <td>160.9</td>\n      <td>21.4</td>\n      <td>29.0</td>\n      <td>50.4</td>\n      <td>273.1</td>\n      <td>50.0</td>\n      <td>64.4</td>\n    </tr>\n    <tr>\n      <th>2023-03-01</th>\n      <td>63.3</td>\n      <td>167.0</td>\n      <td>21.4</td>\n      <td>30.1</td>\n      <td>51.5</td>\n      <td>281.8</td>\n      <td>52.7</td>\n      <td>65.6</td>\n    </tr>\n  </tbody>\n</table>\n</div>"
     },
     "execution_count": 94,
     "metadata": {},
     "output_type": "execute_result"
    }
   ],
   "source": [
    "ai(macro_cnbs_df, prompt_list[3])"
   ],
   "metadata": {
    "collapsed": false,
    "pycharm": {
     "name": "#%%\n"
    }
   }
  },
  {
   "cell_type": "code",
   "execution_count": 95,
   "outputs": [
    {
     "name": "stdout",
     "output_type": "stream",
     "text": [
      "No code found in the response\n"
     ]
    },
    {
     "data": {
      "text/plain": "'Unfortunately, I was not able to answer your question, because of the following error:\\n\\nNo code found in the response\\n'"
     },
     "execution_count": 95,
     "metadata": {},
     "output_type": "execute_result"
    }
   ],
   "source": [
    "ai(macro_cnbs_df, prompt_list[4])"
   ],
   "metadata": {
    "collapsed": false,
    "pycharm": {
     "name": "#%%\n"
    }
   }
  },
  {
   "cell_type": "code",
   "execution_count": 97,
   "outputs": [],
   "source": [
    "import matplotlib as mpl"
   ],
   "metadata": {
    "collapsed": false,
    "pycharm": {
     "name": "#%%\n"
    }
   }
  },
  {
   "cell_type": "code",
   "execution_count": 98,
   "outputs": [
    {
     "data": {
      "text/plain": "'/Users/jeffrey/.matplotlib'"
     },
     "execution_count": 98,
     "metadata": {},
     "output_type": "execute_result"
    }
   ],
   "source": [
    "mpl.get_cachedir()"
   ],
   "metadata": {
    "collapsed": false,
    "pycharm": {
     "name": "#%%\n"
    }
   }
  },
  {
   "cell_type": "code",
   "execution_count": null,
   "outputs": [],
   "source": [],
   "metadata": {
    "collapsed": false,
    "pycharm": {
     "name": "#%%\n"
    }
   }
  }
 ],
 "metadata": {
  "kernelspec": {
   "display_name": "Python 3",
   "language": "python",
   "name": "python3"
  },
  "language_info": {
   "codemirror_mode": {
    "name": "ipython",
    "version": 2
   },
   "file_extension": ".py",
   "mimetype": "text/x-python",
   "name": "python",
   "nbconvert_exporter": "python",
   "pygments_lexer": "ipython2",
   "version": "2.7.6"
  }
 },
 "nbformat": 4,
 "nbformat_minor": 0
}